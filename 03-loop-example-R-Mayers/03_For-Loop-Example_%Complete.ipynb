{
 "cells": [
  {
   "cell_type": "markdown",
   "metadata": {},
   "source": [
    "This program measures the number of times a for loop has been run (using a basic counter) and divides it by the total number of times the loop will run, and prints this out as a percentage each time the loop completes. As part of a larger program, one could imagine this being a simple, very approximate way to provide end users with an idea of how much time a program will take to execute based upon time so far."
   ]
  },
  {
   "cell_type": "code",
   "execution_count": 24,
   "metadata": {},
   "outputs": [
    {
     "name": "stdout",
     "output_type": "stream",
     "text": [
      "4\n",
      "The program is 25.0% complete\n",
      "The program is 50.0% complete\n",
      "The program is 75.0% complete\n",
      "The program is 100.0% complete\n"
     ]
    }
   ],
   "source": [
    "current = 0\n",
    "total = 0\n",
    "percent = 0\n",
    "contents = [14.4, 13.2, 12.9, 8.7]\n",
    "total = len(contents)\n",
    "print(total)\n",
    "\n",
    "for duration in contents :\n",
    "    #do something useful\n",
    "    current = current + 1\n",
    "    percent = current/total*100\n",
    "    print(\"The program is \" + str(percent) + \"% complete\")"
   ]
  }
 ],
 "metadata": {
  "kernelspec": {
   "display_name": "Python 3",
   "language": "python",
   "name": "python3"
  },
  "language_info": {
   "codemirror_mode": {
    "name": "ipython",
    "version": 3
   },
   "file_extension": ".py",
   "mimetype": "text/x-python",
   "name": "python",
   "nbconvert_exporter": "python",
   "pygments_lexer": "ipython3",
   "version": "3.6.1"
  }
 },
 "nbformat": 4,
 "nbformat_minor": 2
}
